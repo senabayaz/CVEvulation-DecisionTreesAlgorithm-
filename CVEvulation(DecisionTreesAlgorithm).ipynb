{
 "cells": [
  {
   "cell_type": "code",
   "execution_count": null,
   "id": "ace08f1e",
   "metadata": {},
   "outputs": [],
   "source": [
    "# TREE ALGORITHM \n",
    "# NOTE : VALUES MUST BE NUMERAL"
   ]
  },
  {
   "cell_type": "code",
   "execution_count": 7,
   "id": "ab68cfe4",
   "metadata": {},
   "outputs": [],
   "source": [
    "import pandas as pd\n",
    "import numpy as np\n",
    "import matplotlib.pyplot as plt\n",
    "import seaborn as sb\n",
    "from sklearn import tree"
   ]
  },
  {
   "cell_type": "code",
   "execution_count": 8,
   "id": "dae2cdcc",
   "metadata": {},
   "outputs": [
    {
     "data": {
      "text/html": [
       "<div>\n",
       "<style scoped>\n",
       "    .dataframe tbody tr th:only-of-type {\n",
       "        vertical-align: middle;\n",
       "    }\n",
       "\n",
       "    .dataframe tbody tr th {\n",
       "        vertical-align: top;\n",
       "    }\n",
       "\n",
       "    .dataframe thead th {\n",
       "        text-align: right;\n",
       "    }\n",
       "</style>\n",
       "<table border=\"1\" class=\"dataframe\">\n",
       "  <thead>\n",
       "    <tr style=\"text-align: right;\">\n",
       "      <th></th>\n",
       "      <th>Deneyim Yili</th>\n",
       "      <th>SuanCalisiyor?</th>\n",
       "      <th>Eski Calistigi Firmalar</th>\n",
       "      <th>Egitim Seviyesi</th>\n",
       "      <th>Top10 Universite?</th>\n",
       "      <th>StajBizdeYaptimi?</th>\n",
       "      <th>IseAlindi</th>\n",
       "    </tr>\n",
       "  </thead>\n",
       "  <tbody>\n",
       "    <tr>\n",
       "      <th>0</th>\n",
       "      <td>11</td>\n",
       "      <td>Y</td>\n",
       "      <td>4</td>\n",
       "      <td>BS</td>\n",
       "      <td>N</td>\n",
       "      <td>N</td>\n",
       "      <td>Y</td>\n",
       "    </tr>\n",
       "    <tr>\n",
       "      <th>1</th>\n",
       "      <td>0</td>\n",
       "      <td>N</td>\n",
       "      <td>0</td>\n",
       "      <td>PhD</td>\n",
       "      <td>Y</td>\n",
       "      <td>Y</td>\n",
       "      <td>Y</td>\n",
       "    </tr>\n",
       "    <tr>\n",
       "      <th>2</th>\n",
       "      <td>5</td>\n",
       "      <td>Y</td>\n",
       "      <td>2</td>\n",
       "      <td>MS</td>\n",
       "      <td>N</td>\n",
       "      <td>Y</td>\n",
       "      <td>Y</td>\n",
       "    </tr>\n",
       "    <tr>\n",
       "      <th>3</th>\n",
       "      <td>3</td>\n",
       "      <td>N</td>\n",
       "      <td>1</td>\n",
       "      <td>BS</td>\n",
       "      <td>N</td>\n",
       "      <td>Y</td>\n",
       "      <td>Y</td>\n",
       "    </tr>\n",
       "    <tr>\n",
       "      <th>4</th>\n",
       "      <td>0</td>\n",
       "      <td>N</td>\n",
       "      <td>0</td>\n",
       "      <td>BS</td>\n",
       "      <td>N</td>\n",
       "      <td>N</td>\n",
       "      <td>N</td>\n",
       "    </tr>\n",
       "  </tbody>\n",
       "</table>\n",
       "</div>"
      ],
      "text/plain": [
       "   Deneyim Yili SuanCalisiyor?  Eski Calistigi Firmalar Egitim Seviyesi  \\\n",
       "0            11              Y                        4              BS   \n",
       "1             0              N                        0             PhD   \n",
       "2             5              Y                        2              MS   \n",
       "3             3              N                        1              BS   \n",
       "4             0              N                        0              BS   \n",
       "\n",
       "  Top10 Universite? StajBizdeYaptimi? IseAlindi  \n",
       "0                 N                 N         Y  \n",
       "1                 Y                 Y         Y  \n",
       "2                 N                 Y         Y  \n",
       "3                 N                 Y         Y  \n",
       "4                 N                 N         N  "
      ]
     },
     "execution_count": 8,
     "metadata": {},
     "output_type": "execute_result"
    }
   ],
   "source": [
    "df = pd.read_csv(\"HR.csv\")\n",
    "df.head()"
   ]
  },
  {
   "cell_type": "code",
   "execution_count": 12,
   "id": "f83c4e8d",
   "metadata": {},
   "outputs": [
    {
     "data": {
      "text/html": [
       "<div>\n",
       "<style scoped>\n",
       "    .dataframe tbody tr th:only-of-type {\n",
       "        vertical-align: middle;\n",
       "    }\n",
       "\n",
       "    .dataframe tbody tr th {\n",
       "        vertical-align: top;\n",
       "    }\n",
       "\n",
       "    .dataframe thead th {\n",
       "        text-align: right;\n",
       "    }\n",
       "</style>\n",
       "<table border=\"1\" class=\"dataframe\">\n",
       "  <thead>\n",
       "    <tr style=\"text-align: right;\">\n",
       "      <th></th>\n",
       "      <th>Deneyim Yili</th>\n",
       "      <th>SuanCalisiyor?</th>\n",
       "      <th>Eski Calistigi Firmalar</th>\n",
       "      <th>Egitim Seviyesi</th>\n",
       "      <th>Top10 Universite?</th>\n",
       "      <th>StajBizdeYaptimi?</th>\n",
       "      <th>IseAlindi</th>\n",
       "    </tr>\n",
       "  </thead>\n",
       "  <tbody>\n",
       "    <tr>\n",
       "      <th>0</th>\n",
       "      <td>11</td>\n",
       "      <td>1</td>\n",
       "      <td>4</td>\n",
       "      <td>0</td>\n",
       "      <td>0</td>\n",
       "      <td>0</td>\n",
       "      <td>1</td>\n",
       "    </tr>\n",
       "    <tr>\n",
       "      <th>1</th>\n",
       "      <td>0</td>\n",
       "      <td>0</td>\n",
       "      <td>0</td>\n",
       "      <td>1</td>\n",
       "      <td>1</td>\n",
       "      <td>1</td>\n",
       "      <td>1</td>\n",
       "    </tr>\n",
       "    <tr>\n",
       "      <th>2</th>\n",
       "      <td>5</td>\n",
       "      <td>1</td>\n",
       "      <td>2</td>\n",
       "      <td>2</td>\n",
       "      <td>0</td>\n",
       "      <td>1</td>\n",
       "      <td>1</td>\n",
       "    </tr>\n",
       "    <tr>\n",
       "      <th>3</th>\n",
       "      <td>3</td>\n",
       "      <td>0</td>\n",
       "      <td>1</td>\n",
       "      <td>0</td>\n",
       "      <td>0</td>\n",
       "      <td>1</td>\n",
       "      <td>1</td>\n",
       "    </tr>\n",
       "    <tr>\n",
       "      <th>4</th>\n",
       "      <td>0</td>\n",
       "      <td>0</td>\n",
       "      <td>0</td>\n",
       "      <td>0</td>\n",
       "      <td>0</td>\n",
       "      <td>0</td>\n",
       "      <td>0</td>\n",
       "    </tr>\n",
       "  </tbody>\n",
       "</table>\n",
       "</div>"
      ],
      "text/plain": [
       "   Deneyim Yili  SuanCalisiyor?  Eski Calistigi Firmalar  Egitim Seviyesi  \\\n",
       "0            11               1                        4                0   \n",
       "1             0               0                        0                1   \n",
       "2             5               1                        2                2   \n",
       "3             3               0                        1                0   \n",
       "4             0               0                        0                0   \n",
       "\n",
       "   Top10 Universite?  StajBizdeYaptimi?  IseAlindi  \n",
       "0                  0                  0          1  \n",
       "1                  1                  1          1  \n",
       "2                  0                  1          1  \n",
       "3                  0                  1          1  \n",
       "4                  0                  0          0  "
      ]
     },
     "execution_count": 12,
     "metadata": {},
     "output_type": "execute_result"
    }
   ],
   "source": [
    "data_model = {'Y':1,'N':0}\n",
    "\n",
    "df['SuanCalisiyor?'] = df[\"SuanCalisiyor?\"].map(data_model)\n",
    "df['Top10 Universite?'] = df['Top10 Universite?'].map(data_model)\n",
    "df['StajBizdeYaptimi?'] = df['StajBizdeYaptimi?'].map(data_model)\n",
    "df['IseAlindi'] = df['IseAlindi'].map(data_model)\n",
    "\n",
    "education_model = {'BS' : 0 ,'PhD' : 1 , 'MS' : 2}\n",
    "df['Egitim Seviyesi'] = df['Egitim Seviyesi'].map(education_model)\n",
    "\n",
    "df.head()"
   ]
  },
  {
   "cell_type": "code",
   "execution_count": 15,
   "id": "68224bce",
   "metadata": {},
   "outputs": [],
   "source": [
    "X = df.drop(['IseAlindi'],axis=1)\n",
    "y = df['IseAlindi']"
   ]
  },
  {
   "cell_type": "code",
   "execution_count": 16,
   "id": "75371674",
   "metadata": {},
   "outputs": [],
   "source": [
    "clf = tree.DecisionTreeClassifier()\n",
    "clf = clf.fit(X,y)"
   ]
  },
  {
   "cell_type": "code",
   "execution_count": 19,
   "id": "c1413ca2",
   "metadata": {},
   "outputs": [
    {
     "name": "stdout",
     "output_type": "stream",
     "text": [
      "[1 0 1]\n"
     ]
    },
    {
     "name": "stderr",
     "output_type": "stream",
     "text": [
      "C:\\Users\\Sena Bayaz\\anaconda3\\lib\\site-packages\\sklearn\\base.py:450: UserWarning: X does not have valid feature names, but DecisionTreeClassifier was fitted with feature names\n",
      "  warnings.warn(\n"
     ]
    }
   ],
   "source": [
    "print(clf.predict([[0,0,0,2,1,1],[1,0,0,0,0,0],[5,1,12,1,1,0]]))"
   ]
  }
 ],
 "metadata": {
  "kernelspec": {
   "display_name": "Python 3 (ipykernel)",
   "language": "python",
   "name": "python3"
  },
  "language_info": {
   "codemirror_mode": {
    "name": "ipython",
    "version": 3
   },
   "file_extension": ".py",
   "mimetype": "text/x-python",
   "name": "python",
   "nbconvert_exporter": "python",
   "pygments_lexer": "ipython3",
   "version": "3.9.13"
  }
 },
 "nbformat": 4,
 "nbformat_minor": 5
}
